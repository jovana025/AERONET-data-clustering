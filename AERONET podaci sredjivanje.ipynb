{
 "cells": [
  {
   "cell_type": "code",
   "execution_count": 2,
   "id": "db6d71be-d62d-4c24-9886-59ac53327270",
   "metadata": {},
   "outputs": [
    {
     "name": "stdout",
     "output_type": "stream",
     "text": [
      "Requirement already satisfied: odfpy in /home/jovana25/miniconda3/envs/caliop/lib/python3.12/site-packages (1.4.1)\n",
      "Requirement already satisfied: defusedxml in /home/jovana25/miniconda3/envs/caliop/lib/python3.12/site-packages (from odfpy) (0.7.1)\n"
     ]
    }
   ],
   "source": [
    "!pip install odfpy"
   ]
  },
  {
   "cell_type": "code",
   "execution_count": null,
   "id": "c776c0df-9268-4d4c-ae78-826036b06172",
   "metadata": {},
   "outputs": [],
   "source": [
    "import pandas as pd\n"
   ]
  },
  {
   "cell_type": "code",
   "execution_count": 6,
   "id": "58ad1563-2330-4b2b-92eb-a05eaac8cb40",
   "metadata": {},
   "outputs": [],
   "source": [
    "# dopuna kolone ssa iz level 2.0 vrednostima iz level 1.5\n",
    "\n",
    "# ucitava oba fajla, preskace 6 redova, 7. je header\n",
    "df1 = pd.read_excel(\"20150101_20251231_Magurele_Inoe20.ods\", engine=\"odf\", skiprows=6)\n",
    "df2 = pd.read_excel(\"20150101_20251231_Magurele_Inoe15.ods\", engine=\"odf\", skiprows=6)\n",
    "\n",
    "# kolone koje koristim\n",
    "col_date = \"Date(dd:mm:yyyy)\"\n",
    "col_time = \"Time(hh:mm:ss)\"\n",
    "col_val  = \"Single_Scattering_Albedo[440nm]\"\n",
    "\n",
    "# pretvara Date i Time u string (da ne dodje do problema sa formatima)\n",
    "df1[col_date] = df1[col_date].astype(str).str.strip()\n",
    "df1[col_time] = df1[col_time].astype(str).str.strip()\n",
    "df2[col_date] = df2[col_date].astype(str).str.strip()\n",
    "df2[col_time] = df2[col_time].astype(str).str.strip()\n",
    "\n",
    "# pravi key (Date+Time) u oba fajla\n",
    "df1[\"key\"] = df1[col_date] + \" \" + df1[col_time]\n",
    "df2[\"key\"] = df2[col_date] + \" \" + df2[col_time]\n",
    "\n",
    "# mapiranje: key -> vrednost iz drugog fajla\n",
    "replace_map = dict(zip(df2[\"key\"], df2[col_val]))\n",
    "\n",
    "# zamena vrednosti u prvom fajlu\n",
    "df1[col_val] = df1.apply(lambda row: replace_map.get(row[\"key\"], row[col_val]), axis=1)\n",
    "\n",
    "df1 = df1.drop(columns=[\"key\"])\n",
    "\n",
    "# snimanje\n",
    "df1.to_excel(\"rezultat.ods\", engine=\"odf\", index=False)\n",
    "\n",
    "# par redova za proveru\n",
    "#print(df1[[col_date, col_time, col_val]].head())\n"
   ]
  },
  {
   "cell_type": "code",
   "execution_count": 8,
   "id": "117dcf0e-7f7b-48ca-9806-8098eaeb771a",
   "metadata": {},
   "outputs": [],
   "source": [
    "# dopuna potrebnih parametara iz level 2.0 vrednostima iz level 1.5\n",
    "\n",
    "# ucitava oba fajla, preskace 6 redova, 7. je header\n",
    "df1 = pd.read_excel(\"20150101_20251231_Magurele_Inoe20.ods\", engine=\"odf\", skiprows=6)\n",
    "df2 = pd.read_excel(\"20150101_20251231_Magurele_Inoe15.ods\", engine=\"odf\", skiprows=6)\n",
    "\n",
    "\n",
    "# kolone koje koristim\n",
    "col_date = \"Date(dd:mm:yyyy)\"\n",
    "col_time = \"Time(hh:mm:ss)\"\n",
    "\n",
    "# Kolone koje treba menjati\n",
    "cols_to_update = [\n",
    "    \"Single_Scattering_Albedo[440nm]\",\n",
    "    \"Refractive_Index-Real_Part[440nm]\",\n",
    "    \"Lidar_Ratio[440nm]\",\n",
    "    \"Lidar_Ratio[870nm]\"\n",
    "]\n",
    "\n",
    "# pretvara Date i Time u string (da ne dodje do problema sa formatima)\n",
    "df1[col_date] = df1[col_date].astype(str).str.strip()\n",
    "df1[col_time] = df1[col_time].astype(str).str.strip()\n",
    "df2[col_date] = df2[col_date].astype(str).str.strip()\n",
    "df2[col_time] = df2[col_time].astype(str).str.strip()\n",
    "\n",
    "# pravi key (Date+Time) u oba fajla\n",
    "df1[\"key\"] = df1[col_date] + \" \" + df1[col_time]\n",
    "df2[\"key\"] = df2[col_date] + \" \" + df2[col_time]\n",
    "\n",
    "# sve kolone koje menjam\n",
    "for col in cols_to_update:\n",
    "    replace_map = dict(zip(df2[\"key\"], df2[col]))\n",
    "    df1[col] = df1.apply(lambda row: replace_map.get(row[\"key\"], row[col]), axis=1)\n",
    "\n",
    "df1 = df1.drop(columns=[\"key\"])\n",
    "\n",
    "# snimanje rezultata\n",
    "df1.to_excel(\"20150101_20251231_Magurele_Inoe20DOPUNJEN.ods\", engine=\"odf\", index=False)\n"
   ]
  },
  {
   "cell_type": "code",
   "execution_count": null,
   "id": "49c7ea4e-5ce6-43dc-bf93-88b69682f2ad",
   "metadata": {},
   "outputs": [],
   "source": []
  }
 ],
 "metadata": {
  "kernelspec": {
   "display_name": "Python 3 (ipykernel)",
   "language": "python",
   "name": "python3"
  },
  "language_info": {
   "codemirror_mode": {
    "name": "ipython",
    "version": 3
   },
   "file_extension": ".py",
   "mimetype": "text/x-python",
   "name": "python",
   "nbconvert_exporter": "python",
   "pygments_lexer": "ipython3",
   "version": "3.12.2"
  }
 },
 "nbformat": 4,
 "nbformat_minor": 5
}
